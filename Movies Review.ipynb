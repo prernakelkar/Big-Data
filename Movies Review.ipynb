{
 "cells": [
  {
   "cell_type": "markdown",
   "id": "0b6fcb7a",
   "metadata": {},
   "source": [
    "## Problem Statement \n",
    "Every business in the entertainment sector must be able to figure out consumer mood from movie reviews. Through sentiment analysis of movie reviews, the business can learn more about preferences, consumer happiness, and possible areas for growth. Making decisions based on data for consumer engagement, content production, and marketing tactics might benefit from this.\n",
    "\n",
    "\n",
    "Sentiment analysis gives the business a chance to quickly respond to client feedback, identify trends, and evaluate the public's views. Negative sentiment can point out areas that want improvement, while positive emotion can be used to push activities.\n",
    "\n",
    "The dataset provided contains movie reviews, along with sentiment classifications (0 for negative and 1 for positive). Data can be gathered for a practical application from social media, business databases, or from online review sites."
   ]
  },
  {
   "cell_type": "code",
   "execution_count": 47,
   "id": "808e4eab",
   "metadata": {},
   "outputs": [],
   "source": [
    "import numpy as np\n",
    "import pandas as pd\n",
    "import matplotlib.pyplot as plt\n",
    "import string\n",
    "import re\n",
    "import random\n",
    "from sklearn.metrics import classification_report\n",
    "import nltk\n",
    "from nltk.tokenize import word_tokenize\n",
    "from nltk.corpus import stopwords\n",
    "from nltk.stem import WordNetLemmatizer\n",
    "from nltk.collocations import BigramCollocationFinder\n",
    "from nltk.metrics import accuracy\n",
    "from nltk.classify import NaiveBayesClassifier\n",
    "from nltk.classify.scikitlearn import SklearnClassifier\n",
    "\n",
    "from sklearn.model_selection import train_test_split\n",
    "from sklearn.metrics import ConfusionMatrixDisplay\n",
    "from sklearn.linear_model import LogisticRegression\n",
    "from sklearn.svm import LinearSVC"
   ]
  },
  {
   "cell_type": "markdown",
   "id": "84bed7e1",
   "metadata": {},
   "source": [
    "## Data Preprocessing\n",
    "In data preprocesing we will clean and transform the data to ensure that it is best possible shape for extracting meaningful insights and building robust machine learning models. Here are the main steps for our movies review textual data in the context of NLP. "
   ]
  },
  {
   "cell_type": "code",
   "execution_count": 3,
   "id": "5b0659e5",
   "metadata": {},
   "outputs": [],
   "source": [
    "df = pd.read_csv('/Users/prerna/Downloads/movie.csv',encoding='unicode_escape')"
   ]
  },
  {
   "cell_type": "code",
   "execution_count": 4,
   "id": "5072861c",
   "metadata": {},
   "outputs": [
    {
     "data": {
      "text/plain": [
       "<bound method DataFrame.info of                                                  ï»¿text  label\n",
       "0      I grew up (b. 1965) watching and loving the Th...      0\n",
       "1      When I put this movie in my DVD player, and sa...      0\n",
       "2      Why do people who do not know what a particula...      0\n",
       "3      Even though I have great interest in Biblical ...      0\n",
       "4      Im a die hard Dads Army fan and nothing will e...      1\n",
       "...                                                  ...    ...\n",
       "39995  \"Western Union\" is something of a forgotten cl...      1\n",
       "39996  This movie is an incredible piece of work. It ...      1\n",
       "39997  My wife and I watched this movie because we pl...      0\n",
       "39998  When I first watched Flatliners, I was amazed....      1\n",
       "39999  Why would this film be so good, but only gross...      1\n",
       "\n",
       "[40000 rows x 2 columns]>"
      ]
     },
     "execution_count": 4,
     "metadata": {},
     "output_type": "execute_result"
    }
   ],
   "source": [
    "df.info"
   ]
  },
  {
   "cell_type": "markdown",
   "id": "171ef92e",
   "metadata": {},
   "source": [
    "The info() method's goal is to give a brief description of the DataFrame. This comprises the amount of RAM used, the data types in each column, and the number of non-null entries.\n",
    "Knowing the dataset's basic statistics and structure can help you find any missing numbers and make sure the data is formatted as it should be."
   ]
  },
  {
   "cell_type": "code",
   "execution_count": 5,
   "id": "2c8a7a5d",
   "metadata": {},
   "outputs": [
    {
     "data": {
      "text/plain": [
       "(40000, 2)"
      ]
     },
     "execution_count": 5,
     "metadata": {},
     "output_type": "execute_result"
    }
   ],
   "source": [
    "df.shape"
   ]
  },
  {
   "cell_type": "code",
   "execution_count": 52,
   "id": "7d462532",
   "metadata": {},
   "outputs": [
    {
     "data": {
      "text/html": [
       "<div>\n",
       "<style scoped>\n",
       "    .dataframe tbody tr th:only-of-type {\n",
       "        vertical-align: middle;\n",
       "    }\n",
       "\n",
       "    .dataframe tbody tr th {\n",
       "        vertical-align: top;\n",
       "    }\n",
       "\n",
       "    .dataframe thead th {\n",
       "        text-align: right;\n",
       "    }\n",
       "</style>\n",
       "<table border=\"1\" class=\"dataframe\">\n",
       "  <thead>\n",
       "    <tr style=\"text-align: right;\">\n",
       "      <th></th>\n",
       "      <th>ï»¿text</th>\n",
       "      <th>label</th>\n",
       "    </tr>\n",
       "  </thead>\n",
       "  <tbody>\n",
       "    <tr>\n",
       "      <th>0</th>\n",
       "      <td>I grew up (b. 1965) watching and loving the Th...</td>\n",
       "      <td>0</td>\n",
       "    </tr>\n",
       "    <tr>\n",
       "      <th>1</th>\n",
       "      <td>When I put this movie in my DVD player, and sa...</td>\n",
       "      <td>0</td>\n",
       "    </tr>\n",
       "    <tr>\n",
       "      <th>2</th>\n",
       "      <td>Why do people who do not know what a particula...</td>\n",
       "      <td>0</td>\n",
       "    </tr>\n",
       "    <tr>\n",
       "      <th>3</th>\n",
       "      <td>Even though I have great interest in Biblical ...</td>\n",
       "      <td>0</td>\n",
       "    </tr>\n",
       "    <tr>\n",
       "      <th>4</th>\n",
       "      <td>Im a die hard Dads Army fan and nothing will e...</td>\n",
       "      <td>1</td>\n",
       "    </tr>\n",
       "    <tr>\n",
       "      <th>5</th>\n",
       "      <td>A terrible movie as everyone has said. What ma...</td>\n",
       "      <td>0</td>\n",
       "    </tr>\n",
       "    <tr>\n",
       "      <th>6</th>\n",
       "      <td>Finally watched this shocking movie last night...</td>\n",
       "      <td>1</td>\n",
       "    </tr>\n",
       "    <tr>\n",
       "      <th>7</th>\n",
       "      <td>I caught this film on AZN on cable. It sounded...</td>\n",
       "      <td>0</td>\n",
       "    </tr>\n",
       "    <tr>\n",
       "      <th>8</th>\n",
       "      <td>It may be the remake of 1987 Autumn's Tale aft...</td>\n",
       "      <td>1</td>\n",
       "    </tr>\n",
       "    <tr>\n",
       "      <th>9</th>\n",
       "      <td>My Super Ex Girlfriend turned out to be a plea...</td>\n",
       "      <td>1</td>\n",
       "    </tr>\n",
       "  </tbody>\n",
       "</table>\n",
       "</div>"
      ],
      "text/plain": [
       "                                             ï»¿text  label\n",
       "0  I grew up (b. 1965) watching and loving the Th...      0\n",
       "1  When I put this movie in my DVD player, and sa...      0\n",
       "2  Why do people who do not know what a particula...      0\n",
       "3  Even though I have great interest in Biblical ...      0\n",
       "4  Im a die hard Dads Army fan and nothing will e...      1\n",
       "5  A terrible movie as everyone has said. What ma...      0\n",
       "6  Finally watched this shocking movie last night...      1\n",
       "7  I caught this film on AZN on cable. It sounded...      0\n",
       "8  It may be the remake of 1987 Autumn's Tale aft...      1\n",
       "9  My Super Ex Girlfriend turned out to be a plea...      1"
      ]
     },
     "execution_count": 52,
     "metadata": {},
     "output_type": "execute_result"
    }
   ],
   "source": [
    "df.head(10)"
   ]
  },
  {
   "cell_type": "code",
   "execution_count": 7,
   "id": "8d59354b",
   "metadata": {},
   "outputs": [
    {
     "data": {
      "text/plain": [
       "ï»¿text    0\n",
       "label      0\n",
       "dtype: int64"
      ]
     },
     "execution_count": 7,
     "metadata": {},
     "output_type": "execute_result"
    }
   ],
   "source": [
    "df.isna().sum()"
   ]
  },
  {
   "cell_type": "code",
   "execution_count": 8,
   "id": "19f9d4d6",
   "metadata": {},
   "outputs": [
    {
     "data": {
      "image/png": "[encoded data removed]",
      "text/plain": [
       "<Figure size 800x600 with 1 Axes>"
      ]
     },
     "metadata": {},
     "output_type": "display_data"
    }
   ],
   "source": [
    "sentiments = df['label'].value_counts()\n",
    "plt.figure(figsize=(8, 6))\n",
    "plt.pie(\n",
    "  sentiments,\n",
    "  labels=sentiments.index,\n",
    "  autopct='%1.1f%%',\n",
    "  startangle=135\n",
    "  )\n",
    "plt.title('Positive vs. Negative sentiment')\n",
    "plt.show()"
   ]
  },
  {
   "cell_type": "code",
   "execution_count": 9,
   "id": "f70c87d9",
   "metadata": {},
   "outputs": [],
   "source": [
    "positive_reviews = df[df['label'] == 1]\n",
    "negative_reviews = df[df['label'] == 0]"
   ]
  },
  {
   "cell_type": "code",
   "execution_count": 10,
   "id": "da80206d",
   "metadata": {},
   "outputs": [
    {
     "name": "stdout",
     "output_type": "stream",
     "text": [
      "Number of positive sentiments: 19981\n",
      "Number of negative sentiments:  20019\n"
     ]
    }
   ],
   "source": [
    "print('Number of positive sentiments:', sentiments[1])\n",
    "print('Number of negative sentiments: ', sentiments[0])"
   ]
  },
  {
   "cell_type": "code",
   "execution_count": 11,
   "id": "3dbe8195",
   "metadata": {},
   "outputs": [],
   "source": [
    "sample_positive = positive_reviews.sample(n=10000, random_state=42)\n",
    "sample_negative = negative_reviews.sample(n=10000, random_state=42)"
   ]
  },
  {
   "cell_type": "code",
   "execution_count": 12,
   "id": "4d7ddc3a",
   "metadata": {},
   "outputs": [],
   "source": [
    "reviews = pd.concat([sample_positive, sample_negative])\n",
    "reviews = reviews.sample(frac=1, random_state=42).reset_index(drop=True)"
   ]
  },
  {
   "cell_type": "markdown",
   "id": "74befdff",
   "metadata": {},
   "source": [
    "In this we balanced as well as shuffled the data. By balancing the dataset will ensures equal representation of both classes, which will helps in training robust model. Shuffling the data will also ensures that the model is not trained on any particular order, reducing the risk of learning spurious patterns."
   ]
  },
  {
   "cell_type": "code",
   "execution_count": 13,
   "id": "b44ea435",
   "metadata": {},
   "outputs": [
    {
     "data": {
      "text/plain": [
       "(20000, 2)"
      ]
     },
     "execution_count": 13,
     "metadata": {},
     "output_type": "execute_result"
    }
   ],
   "source": [
    "reviews.shape"
   ]
  },
  {
   "cell_type": "code",
   "execution_count": 19,
   "id": "b673f799",
   "metadata": {},
   "outputs": [],
   "source": [
    "reviews.columns = [\"text\", \"label\"]"
   ]
  },
  {
   "cell_type": "code",
   "execution_count": 20,
   "id": "9f03cb5b",
   "metadata": {},
   "outputs": [
    {
     "data": {
      "text/plain": [
       "label\n",
       "0    10000\n",
       "1    10000\n",
       "Name: count, dtype: int64"
      ]
     },
     "execution_count": 20,
     "metadata": {},
     "output_type": "execute_result"
    }
   ],
   "source": [
    "reviews['label'].value_counts()"
   ]
  },
  {
   "cell_type": "markdown",
   "id": "8b3856ce",
   "metadata": {},
   "source": [
    "## Feature Extraction \n",
    "We will Convert text data into numerical features using techniques. This will use the collected attributes to train machine learning models (Naive Bayes and SVM). Next, we'll assess the models' performance using metrics like F1-score, accuracy, precision, and recall. Here, we'll use processes to prepare text input for natural language processing (NLP) activities, particularly sentiment analysis."
   ]
  },
  {
   "cell_type": "code",
   "execution_count": 21,
   "id": "cf03e2c5",
   "metadata": {},
   "outputs": [
    {
     "name": "stdout",
     "output_type": "stream",
     "text": [
      "I really enjoyed this -- I'm a big fan of movies that mess with your mind and leave you with a lot of questions and ideas to debate, and this was a stellar example. But then, Terry Gilliam is always good at that (well, almost always. Let's just forget about Jabberwocky and The Brothers Grimm, shall we?).<br /><br />I particularly liked the way it handled the time travel theme and the avoidance of paradoxes -- the way events in the past and future intertwined and fed into each other.<br /><br />It was also really well done aesthetically -- the art direction was really great, and I wish I'd been able to see it on the big screen. The future scenes had a similar feel to Brazil in a lot of ways, and even the present scenes were often really visually compelling.<br /><br />But perhaps the most striking thing about it was that it featured two actors I normally don't much like, Bruce Willis and Brad Pitt, and they both delivered amazing performances here. Pitt especially -- I'd seen one or two films before that made me realize he could in fact actually act (contrary to what I'd originally thought), but this one really outdid them. I actually found myself asking my friends at one point \"Are you SURE that's Brad Pitt?\" This is probably the most memorable performance of his career (though admittedly that may not be saying too much).\n"
     ]
    }
   ],
   "source": [
    "print(reviews['text'][123])"
   ]
  },
  {
   "cell_type": "code",
   "execution_count": 22,
   "id": "cbfc3a50",
   "metadata": {},
   "outputs": [],
   "source": [
    "lemmatizer = WordNetLemmatizer()\n",
    "stopwords = nltk.corpus.stopwords.words('english')\n",
    "\n",
    "pattern_html = r'<.*?>'\n",
    "\n",
    "def preprocess_text(text):\n",
    "\n",
    "  text = re.sub(pattern_html, '', text)\n",
    "\n",
    "  tokens = word_tokenize(text.lower())\n",
    "\n",
    "  tokens_filtered = [token for token in tokens if token not in stopwords]\n",
    "\n",
    "  tokens_filtered = [token for token in tokens_filtered if token not in string.punctuation]\n",
    "\n",
    "  tokens_filtered = [token for token in tokens_filtered if token.isalpha()]\n",
    "\n",
    "  tokens_lemmatized = [lemmatizer.lemmatize(token) for token in tokens_filtered]\n",
    "\n",
    "  preprocessed_text = ' '.join(tokens_lemmatized)\n",
    "\n",
    "  return preprocessed_text"
   ]
  },
  {
   "cell_type": "markdown",
   "id": "0ac620db",
   "metadata": {},
   "source": [
    "This Will remove the HTML tags, changing the text's case, tokenizing, filtering out stopwords, punctuation, and non-alphabetic characters, and lemmatizing the tokens, this function cleans and standardises the text, leaving behind a preprocessed text string that can be used as an input for a machine learning model or for additional analysis."
   ]
  },
  {
   "cell_type": "code",
   "execution_count": 23,
   "id": "064ead3d",
   "metadata": {},
   "outputs": [],
   "source": [
    "reviews['text'] = reviews['text'].apply(preprocess_text)"
   ]
  },
  {
   "cell_type": "code",
   "execution_count": 24,
   "id": "57327f9d-809b-483d-bd4f-a157af5d1cbb",
   "metadata": {},
   "outputs": [],
   "source": [
    "documents = [(list(word_tokenize(review)), label) for review, label in zip(reviews['text'], reviews['label'])]\n",
    "random.shuffle(documents)"
   ]
  },
  {
   "cell_type": "code",
   "execution_count": 25,
   "id": "94ac742a-db15-498b-9673-d5cad73b2518",
   "metadata": {},
   "outputs": [],
   "source": [
    "def document_unigram_features(document):\n",
    "    unigrams = {}\n",
    "    for token in document:\n",
    "        if token in unigrams:\n",
    "            unigrams[token] += 1\n",
    "        else:\n",
    "            unigrams[token] = 1\n",
    "    return unigrams"
   ]
  },
  {
   "cell_type": "code",
   "execution_count": 26,
   "id": "fa7a449f-6738-407b-8706-79897ff7d36f",
   "metadata": {},
   "outputs": [],
   "source": [
    "features_uni = [(document_unigram_features(d), c) for (d, c) in documents]"
   ]
  },
  {
   "cell_type": "code",
   "execution_count": 27,
   "id": "f1c4c311-af98-45bd-a176-69c90fc40b1e",
   "metadata": {},
   "outputs": [],
   "source": [
    "def document_bigram_features(document):\n",
    "    bigrams = {}\n",
    "    bigram_finder = BigramCollocationFinder.from_words(document)\n",
    "    for bigram, freq in bigram_finder.ngram_fd.items():\n",
    "      bigrams[bigram] = freq\n",
    "    return bigrams"
   ]
  },
  {
   "cell_type": "code",
   "execution_count": 28,
   "id": "2b7805e1-84d1-44d5-b1dc-329e549247db",
   "metadata": {},
   "outputs": [],
   "source": [
    "features_bi = [(document_bigram_features(d), c) for (d, c) in documents]"
   ]
  },
  {
   "cell_type": "code",
   "execution_count": 33,
   "id": "d84907e8",
   "metadata": {},
   "outputs": [],
   "source": [
    "uni_test_true = [label for (features, label) in test_set_uni]\n",
    "bi_test_true = [label for (features, label) in test_set_bi]"
   ]
  },
  {
   "cell_type": "code",
   "execution_count": 34,
   "id": "f00ae27b",
   "metadata": {},
   "outputs": [],
   "source": [
    "train_set_uni, test_set_uni = train_test_split(features_uni, test_size=0.2, random_state=123, shuffle=True)\n",
    "train_set_bi, test_set_bi = train_test_split(features_bi, test_size=0.2, random_state=123, shuffle=True)"
   ]
  },
  {
   "cell_type": "markdown",
   "id": "5e736e6f",
   "metadata": {},
   "source": [
    "## Naive bayes using unigrams"
   ]
  },
  {
   "cell_type": "code",
   "execution_count": 35,
   "id": "a236cfb6",
   "metadata": {},
   "outputs": [],
   "source": [
    "nb_uni = NaiveBayesClassifier.train(train_set_uni)\n",
    "nb_uni_pred = [nb_uni.classify(features) for (features, label) in test_set_uni]"
   ]
  },
  {
   "cell_type": "code",
   "execution_count": 36,
   "id": "f920af9a",
   "metadata": {
    "scrolled": true
   },
   "outputs": [
    {
     "name": "stdout",
     "output_type": "stream",
     "text": [
      "0.8462\n"
     ]
    }
   ],
   "source": [
    "print(round(accuracy(uni_test_true, nb_uni_pred), 4))"
   ]
  },
  {
   "cell_type": "code",
   "execution_count": 48,
   "id": "1401136e",
   "metadata": {},
   "outputs": [
    {
     "name": "stdout",
     "output_type": "stream",
     "text": [
      "              precision    recall  f1-score   support\n",
      "\n",
      "           0       0.87      0.81      0.84      2003\n",
      "           1       0.82      0.88      0.85      1997\n",
      "\n",
      "    accuracy                           0.85      4000\n",
      "   macro avg       0.85      0.85      0.85      4000\n",
      "weighted avg       0.85      0.85      0.85      4000\n",
      "\n"
     ]
    }
   ],
   "source": [
    "print(classification_report(uni_test_true, nb_uni_pred))"
   ]
  },
  {
   "cell_type": "code",
   "execution_count": 37,
   "id": "83d49642-6bbd-4fe5-92c6-064c84275378",
   "metadata": {},
   "outputs": [
    {
     "data": {
      "image/png": "[encoded data removed]",
      "text/plain": [
       "<Figure size 640x480 with 2 Axes>"
      ]
     },
     "metadata": {},
     "output_type": "display_data"
    }
   ],
   "source": [
    "ConfusionMatrixDisplay.from_predictions(\n",
    "    uni_test_true,\n",
    "    nb_uni_pred,\n",
    "    display_labels=[1, 0]\n",
    "    )\n",
    "plt.title('Confusion Matrix - Naive Bayes with unigrams')\n",
    "plt.show()"
   ]
  },
  {
   "cell_type": "markdown",
   "id": "5b6039b4",
   "metadata": {},
   "source": [
    "Naive Bayes Using Unigrams: This was the highest recall for class 1 (0.88), indicating that it is very good at identifying positive sentiments but less balanced than the SVM with unigrams. Overall, we achieved an accuracy of 0.8462, which is slightly behind the SVM with unigrams."
   ]
  },
  {
   "cell_type": "markdown",
   "id": "075c470f",
   "metadata": {},
   "source": [
    "## Naive Bayes Using Bigrams"
   ]
  },
  {
   "cell_type": "code",
   "execution_count": 38,
   "id": "3d9dc486-759a-4fe7-95fe-e7038e0df7bf",
   "metadata": {},
   "outputs": [],
   "source": [
    "nb_bi = NaiveBayesClassifier.train(train_set_bi)\n",
    "nb_bi_pred = [nb_bi.classify(features) for (features, label) in test_set_bi]"
   ]
  },
  {
   "cell_type": "code",
   "execution_count": 39,
   "id": "1993c59e-9f2d-4d08-aa1b-e68ebcb43601",
   "metadata": {},
   "outputs": [
    {
     "name": "stdout",
     "output_type": "stream",
     "text": [
      "0.852\n"
     ]
    }
   ],
   "source": [
    "print(round(accuracy(bi_test_true, nb_bi_pred), 4))"
   ]
  },
  {
   "cell_type": "code",
   "execution_count": 49,
   "id": "ce35acf9",
   "metadata": {},
   "outputs": [
    {
     "name": "stdout",
     "output_type": "stream",
     "text": [
      "              precision    recall  f1-score   support\n",
      "\n",
      "           0       0.85      0.86      0.85      2003\n",
      "           1       0.85      0.85      0.85      1997\n",
      "\n",
      "    accuracy                           0.85      4000\n",
      "   macro avg       0.85      0.85      0.85      4000\n",
      "weighted avg       0.85      0.85      0.85      4000\n",
      "\n"
     ]
    }
   ],
   "source": [
    "print(classification_report(bi_test_true, nb_bi_pred))"
   ]
  },
  {
   "cell_type": "code",
   "execution_count": 40,
   "id": "3a48a4fd-efad-40f3-b1db-6f78a46c6162",
   "metadata": {},
   "outputs": [
    {
     "data": {
      "image/png": "[encoded data removed]",
      "text/plain": [
       "<Figure size 640x480 with 2 Axes>"
      ]
     },
     "metadata": {},
     "output_type": "display_data"
    }
   ],
   "source": [
    "ConfusionMatrixDisplay.from_predictions(\n",
    "    bi_test_true,\n",
    "    nb_bi_pred,\n",
    "    display_labels=[1, 0]\n",
    "    )\n",
    "plt.title('Confusion Matrix - Naive Bayes with bigrams')\n",
    "plt.show()"
   ]
  },
  {
   "cell_type": "markdown",
   "id": "fdec7a70",
   "metadata": {},
   "source": [
    "Naive Bayes Using Bigrams: This model is marginally better than the SVM using unigrams in terms of recall for class 0 (0.86), with an accuracy of 0.85. Its total accuracy was slightly less accurate, yet. This implies that bigrams—pairs of words—can be useful, even though they didn't outperform unigrams in this instance."
   ]
  },
  {
   "cell_type": "markdown",
   "id": "fda38ac2",
   "metadata": {},
   "source": [
    "## SVM Using Unigrams "
   ]
  },
  {
   "cell_type": "code",
   "execution_count": 41,
   "id": "26872ff2-bc8a-49b8-b53d-2859189f51d9",
   "metadata": {},
   "outputs": [],
   "source": [
    "svc_uni = SklearnClassifier(LinearSVC(max_iter=10000)).train(train_set_uni)\n",
    "svc_uni_pred = [svc_uni.classify(features) for (features, label) in test_set_uni]"
   ]
  },
  {
   "cell_type": "code",
   "execution_count": 42,
   "id": "66cefac8-2062-4958-bf2b-9b6101dd7024",
   "metadata": {},
   "outputs": [
    {
     "name": "stdout",
     "output_type": "stream",
     "text": [
      "0.8532\n"
     ]
    }
   ],
   "source": [
    "print(round(accuracy(uni_test_true, svc_uni_pred), 4))"
   ]
  },
  {
   "cell_type": "code",
   "execution_count": 50,
   "id": "925c8faf",
   "metadata": {
    "scrolled": true
   },
   "outputs": [
    {
     "name": "stdout",
     "output_type": "stream",
     "text": [
      "              precision    recall  f1-score   support\n",
      "\n",
      "           0       0.85      0.85      0.85      2003\n",
      "           1       0.85      0.85      0.85      1997\n",
      "\n",
      "    accuracy                           0.85      4000\n",
      "   macro avg       0.85      0.85      0.85      4000\n",
      "weighted avg       0.85      0.85      0.85      4000\n",
      "\n"
     ]
    }
   ],
   "source": [
    "print(classification_report(uni_test_true, svc_uni_pred))"
   ]
  },
  {
   "cell_type": "code",
   "execution_count": 53,
   "id": "ca429b85-7c58-4fa7-a36a-255f7b762aa9",
   "metadata": {
    "scrolled": true
   },
   "outputs": [
    {
     "data": {
      "image/png": "[encoded data removed]",
      "text/plain": [
       "<Figure size 640x480 with 2 Axes>"
      ]
     },
     "metadata": {},
     "output_type": "display_data"
    }
   ],
   "source": [
    "ConfusionMatrixDisplay.from_predictions(\n",
    "    uni_test_true,\n",
    "    svc_uni_pred,\n",
    "    display_labels=[1, 0]\n",
    "    )\n",
    "plt.title('Confusion Matrix - Linear Support Vector Classification with unigrams')\n",
    "plt.show()"
   ]
  },
  {
   "cell_type": "markdown",
   "id": "4744f8d2",
   "metadata": {},
   "source": [
    "SVM Using Unigrams: This has balanced precision, recall, and F1-scores for both classes (0 and 1) and has attained the best accuracy of 0.8532. This suggests that the model uses single words as features and consistently does a good job of distinguishing both positive and negative thoughts."
   ]
  },
  {
   "cell_type": "markdown",
   "id": "322b5d74",
   "metadata": {},
   "source": [
    "## SVM Using Bigrams "
   ]
  },
  {
   "cell_type": "code",
   "execution_count": 44,
   "id": "e82f4522-994e-4361-94d8-b2761ae026cd",
   "metadata": {},
   "outputs": [],
   "source": [
    "svc_bi = SklearnClassifier(LinearSVC(max_iter=10000)).train(train_set_bi)\n",
    "svc_bi_pred = [svc_bi.classify(features) for (features, label) in test_set_bi]"
   ]
  },
  {
   "cell_type": "code",
   "execution_count": 45,
   "id": "379f5920-88b3-4d8c-bbed-7b7288c4bbb7",
   "metadata": {},
   "outputs": [
    {
     "name": "stdout",
     "output_type": "stream",
     "text": [
      "0.841\n"
     ]
    }
   ],
   "source": [
    "print(round(accuracy(bi_test_true, svc_bi_pred), 4))"
   ]
  },
  {
   "cell_type": "code",
   "execution_count": 51,
   "id": "607b16f9",
   "metadata": {},
   "outputs": [
    {
     "name": "stdout",
     "output_type": "stream",
     "text": [
      "              precision    recall  f1-score   support\n",
      "\n",
      "           0       0.86      0.81      0.84      2003\n",
      "           1       0.82      0.87      0.84      1997\n",
      "\n",
      "    accuracy                           0.84      4000\n",
      "   macro avg       0.84      0.84      0.84      4000\n",
      "weighted avg       0.84      0.84      0.84      4000\n",
      "\n"
     ]
    }
   ],
   "source": [
    "print(classification_report(bi_test_true, svc_bi_pred))"
   ]
  },
  {
   "cell_type": "code",
   "execution_count": 46,
   "id": "ba6d7118-c8ae-4a01-8bd4-9d40b83bfd2b",
   "metadata": {},
   "outputs": [
    {
     "data": {
      "image/png": "[encoded data removed]",
      "text/plain": [
       "<Figure size 640x480 with 2 Axes>"
      ]
     },
     "metadata": {},
     "output_type": "display_data"
    }
   ],
   "source": [
    "ConfusionMatrixDisplay.from_predictions(\n",
    "    bi_test_true,\n",
    "    svc_bi_pred,\n",
    "    display_labels=[1, 0]\n",
    "    )\n",
    "plt.title('Confusion Matrix - Linear Support Vector Classification with bigrams')\n",
    "plt.show()"
   ]
  },
  {
   "cell_type": "markdown",
   "id": "62c4688e",
   "metadata": {},
   "source": [
    "Bigrams SVM: This model's accuracy of 0.841 was less than that of its unigram equivalent. Its precision for class 0 was good (0.86), while its recall for class 0 and precision for class 1 were inferior. This suggests that for this dataset, employing unigrams may be more beneficial than utilising bigrams with SVM."
   ]
  },
  {
   "cell_type": "markdown",
   "id": "4daee9a4-f9b6-4d24-95e7-5f3cd3807619",
   "metadata": {},
   "source": [
    "# Model Performance Comparison\n",
    "\n",
    "| Model                       | Accuracy | Precision 0 | Precision 1 | Recall 0 | Recall 1 | F1-Score 0 | F1-Score 1 |\n",
    "|-----------------------------|----------|-------------|-------------|----------|----------|------------|------------|\n",
    "| SVM With Unigrams           | 0.8532   | 0.85        | 0.85        | 0.85     | 0.85     | 0.85       | 0.85       |\n",
    "| Naive Bayes With Bigrams    | 0.85     | 0.85        | 0.85        | 0.86     | 0.85     | 0.85       | 0.85       |\n",
    "| SVM With Bigrams            | 0.841    | 0.86        | 0.82        | 0.81     | 0.87     | 0.84       | 0.84       |\n",
    "| Naive Bayes With Unigrams   | 0.8462   | 0.87        | 0.82        | 0.81     | 0.88     | 0.84       | 0.85       |\n"
   ]
  },
  {
   "cell_type": "markdown",
   "id": "b16976c7",
   "metadata": {},
   "source": [
    "SVM with Unigrams has the best accuracy of any model, with a 0.8532 accuracy. For all classes, our model performed equally well in terms of precision, recall, and F1-scores. As a result, for sentiment analysis on this movie reviews dataset, the SVM with unigrams is best. This method yields consistent and dependable results while effectively capturing the sentiment from individual words.\n",
    "\n",
    "The significance of feature extraction and model selection strategies in NLP tasks is emphasised by this finding. For this particular objective, simplicity with unigrams combined with a strong algorithm like SVM appears to be the most effective strategy, even though more complex features like bigrams can offer minor advantages in certain areas."
   ]
  },
  {
   "cell_type": "code",
   "execution_count": null,
   "id": "c60408af",
   "metadata": {},
   "outputs": [],
   "source": []
  }
 ],
 "metadata": {
  "kernelspec": {
   "display_name": "Python 3 (ipykernel)",
   "language": "python",
   "name": "python3"
  },
  "language_info": {
   "codemirror_mode": {
    "name": "ipython",
    "version": 3
   },
   "file_extension": ".py",
   "mimetype": "text/x-python",
   "name": "python",
   "nbconvert_exporter": "python",
   "pygments_lexer": "ipython3",
   "version": "3.11.5"
  }
 },
 "nbformat": 4,
 "nbformat_minor": 5
}
